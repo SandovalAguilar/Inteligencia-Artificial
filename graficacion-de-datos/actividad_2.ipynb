{
 "cells": [
  {
   "cell_type": "markdown",
   "metadata": {},
   "source": [
    "# 2. Graficación de Datos <img src=\"fcfm.png\" style=\"width: 80px;\" style=\"float: right;\"  align=\"right\"  margin-right= \"50px\"/>\n",
    "\n",
    "032 E2024 Inteligencia Artificial \n",
    "\n",
    "Dr. Luis Ángel Gutiérrez Rodríguez\n",
    "\n",
    "Ismael Sandoval Aguilar \n",
    "\n",
    "3 de Febrero de 2024"
   ]
  },
  {
   "cell_type": "markdown",
   "metadata": {},
   "source": [
    "El código importa pandas para análisis de datos, matplotlib.pyplot para visualización gráfica y numpy para cálculos numéricos en Python."
   ]
  },
  {
   "cell_type": "code",
   "execution_count": 36,
   "metadata": {},
   "outputs": [],
   "source": [
    "import pandas as pd\n",
    "import matplotlib.pyplot as plt\n",
    "import numpy as np"
   ]
  },
  {
   "cell_type": "markdown",
   "metadata": {},
   "source": [
    "El código utiliza la biblioteca pandas (importada como `pd`) para cargar un archivo CSV llamado 'Actividad2-heartattack.csv' en un DataFrame llamado `df`."
   ]
  },
  {
   "cell_type": "code",
   "execution_count": 2,
   "metadata": {},
   "outputs": [],
   "source": [
    "df = pd.read_csv('Actividad2-heartattack.csv')"
   ]
  },
  {
   "cell_type": "markdown",
   "metadata": {},
   "source": [
    "El código llama al método `head()` del DataFrame `df` para mostrar las primeras 5 filas del conjunto de datos cargado desde 'Actividad2-heartattack.csv'. Este método es útil para obtener una vista rápida de la estructura y los primeros registros del DataFrame."
   ]
  },
  {
   "cell_type": "code",
   "execution_count": 3,
   "metadata": {},
   "outputs": [
    {
     "data": {
      "text/html": [
       "<div>\n",
       "<style scoped>\n",
       "    .dataframe tbody tr th:only-of-type {\n",
       "        vertical-align: middle;\n",
       "    }\n",
       "\n",
       "    .dataframe tbody tr th {\n",
       "        vertical-align: top;\n",
       "    }\n",
       "\n",
       "    .dataframe thead th {\n",
       "        text-align: right;\n",
       "    }\n",
       "</style>\n",
       "<table border=\"1\" class=\"dataframe\">\n",
       "  <thead>\n",
       "    <tr style=\"text-align: right;\">\n",
       "      <th></th>\n",
       "      <th>age</th>\n",
       "      <th>sex</th>\n",
       "      <th>cp</th>\n",
       "      <th>trestbps</th>\n",
       "      <th>chol</th>\n",
       "      <th>fbs</th>\n",
       "      <th>restecg</th>\n",
       "      <th>thalach</th>\n",
       "      <th>exang</th>\n",
       "      <th>oldpeak</th>\n",
       "      <th>slope</th>\n",
       "      <th>ca</th>\n",
       "      <th>thal</th>\n",
       "      <th>target</th>\n",
       "    </tr>\n",
       "  </thead>\n",
       "  <tbody>\n",
       "    <tr>\n",
       "      <th>0</th>\n",
       "      <td>52</td>\n",
       "      <td>1</td>\n",
       "      <td>0</td>\n",
       "      <td>125</td>\n",
       "      <td>212</td>\n",
       "      <td>0</td>\n",
       "      <td>1</td>\n",
       "      <td>168</td>\n",
       "      <td>0</td>\n",
       "      <td>1.0</td>\n",
       "      <td>2</td>\n",
       "      <td>2</td>\n",
       "      <td>3</td>\n",
       "      <td>0.23</td>\n",
       "    </tr>\n",
       "    <tr>\n",
       "      <th>1</th>\n",
       "      <td>53</td>\n",
       "      <td>1</td>\n",
       "      <td>0</td>\n",
       "      <td>140</td>\n",
       "      <td>203</td>\n",
       "      <td>1</td>\n",
       "      <td>0</td>\n",
       "      <td>155</td>\n",
       "      <td>1</td>\n",
       "      <td>3.1</td>\n",
       "      <td>0</td>\n",
       "      <td>0</td>\n",
       "      <td>3</td>\n",
       "      <td>0.37</td>\n",
       "    </tr>\n",
       "    <tr>\n",
       "      <th>2</th>\n",
       "      <td>70</td>\n",
       "      <td>1</td>\n",
       "      <td>0</td>\n",
       "      <td>145</td>\n",
       "      <td>174</td>\n",
       "      <td>0</td>\n",
       "      <td>1</td>\n",
       "      <td>125</td>\n",
       "      <td>1</td>\n",
       "      <td>2.6</td>\n",
       "      <td>0</td>\n",
       "      <td>0</td>\n",
       "      <td>3</td>\n",
       "      <td>0.24</td>\n",
       "    </tr>\n",
       "    <tr>\n",
       "      <th>3</th>\n",
       "      <td>61</td>\n",
       "      <td>1</td>\n",
       "      <td>0</td>\n",
       "      <td>148</td>\n",
       "      <td>203</td>\n",
       "      <td>0</td>\n",
       "      <td>1</td>\n",
       "      <td>161</td>\n",
       "      <td>0</td>\n",
       "      <td>0.0</td>\n",
       "      <td>2</td>\n",
       "      <td>1</td>\n",
       "      <td>3</td>\n",
       "      <td>0.28</td>\n",
       "    </tr>\n",
       "    <tr>\n",
       "      <th>4</th>\n",
       "      <td>62</td>\n",
       "      <td>0</td>\n",
       "      <td>0</td>\n",
       "      <td>138</td>\n",
       "      <td>294</td>\n",
       "      <td>1</td>\n",
       "      <td>1</td>\n",
       "      <td>106</td>\n",
       "      <td>0</td>\n",
       "      <td>1.9</td>\n",
       "      <td>1</td>\n",
       "      <td>3</td>\n",
       "      <td>2</td>\n",
       "      <td>0.21</td>\n",
       "    </tr>\n",
       "  </tbody>\n",
       "</table>\n",
       "</div>"
      ],
      "text/plain": [
       "   age  sex  cp  trestbps  chol  fbs  restecg  thalach  exang  oldpeak  slope   \n",
       "0   52    1   0       125   212    0        1      168      0      1.0      2  \\\n",
       "1   53    1   0       140   203    1        0      155      1      3.1      0   \n",
       "2   70    1   0       145   174    0        1      125      1      2.6      0   \n",
       "3   61    1   0       148   203    0        1      161      0      0.0      2   \n",
       "4   62    0   0       138   294    1        1      106      0      1.9      1   \n",
       "\n",
       "   ca  thal  target  \n",
       "0   2     3    0.23  \n",
       "1   0     3    0.37  \n",
       "2   0     3    0.24  \n",
       "3   1     3    0.28  \n",
       "4   3     2    0.21  "
      ]
     },
     "execution_count": 3,
     "metadata": {},
     "output_type": "execute_result"
    }
   ],
   "source": [
    "df.head()"
   ]
  },
  {
   "cell_type": "markdown",
   "metadata": {},
   "source": [
    "La clase `Patient` se estructura meticulosamente para encapsular y gestionar datos clínicos relevantes de pacientes, con la habilidad de realizar comparaciones significativas entre instancias. Cada instancia de `Patient` contiene varios atributos que reflejan información médica vital, facilitando el análisis de datos clínicos y la toma de decisiones:\n",
    "\n",
    "1. **`age`**: Edad del paciente.\n",
    "2. **`sex`**: Género del paciente.\n",
    "3. **`cp`** (Chest Pain Type): Tipo de dolor de pecho, un indicador clave en el diagnóstico de enfermedades cardíacas.\n",
    "4. **`trestbps`** (Resting Blood Pressure): Presión arterial en reposo, medida en mm Hg al ingreso al hospital.\n",
    "5. **`chol`** (Serum Cholestoral): Niveles de colesterol sérico en mg/dl.\n",
    "6. **`fbs`** (Fasting Blood Sugar): Nivel de azúcar en sangre en ayunas (> 120 mg/dl, 1 = verdadero; 0 = falso).\n",
    "7. **`restecg`** (Resting Electrocardiographic Results): Resultados electrocardiográficos en reposo.\n",
    "8. **`thalach`** (Maximum Heart Rate Achieved): Máxima frecuencia cardíaca alcanzada.\n",
    "9. **`exang`** (Exercise Induced Angina): Angina inducida por el ejercicio (1 = sí; 0 = no).\n",
    "10. **`oldpeak`**: Depresión del ST inducida por el ejercicio en relación con el reposo.\n",
    "11. **`slope`**: La pendiente del segmento ST del pico del ejercicio.\n",
    "12. **`ca`** (Number of Major Vessels): Número de vasos principales (0-3) coloreados por fluoroscopia.\n",
    "13. **`thal`**: Un trastorno sanguíneo llamado talasemia (3 = normal; 6 = defecto fijo; 7 = defecto reversible).\n",
    "14. **`target`**: Indicador de enfermedad cardíaca (1 = enfermedad, 0 = no enfermedad).\n",
    "\n",
    "El código define una clase `Patient` para representar a los pacientes con atributos extraídos de un DataFrame y un método para comparar a los pacientes basándose en un atributo específico:\n",
    "\n",
    "1. **Constructor `__init__(self, df)`**:\n",
    "   - Inicializa un objeto `Patient` con atributos que representan diferentes características clínicas y de diagnóstico extraídas de una fila del DataFrame (`df`). Los atributos incluyen edad (`age`), sexo (`sex`), tipo de dolor de pecho (`cp`), presión arterial en reposo (`trestbps`), colesterol sérico (`chol`), nivel de azúcar en sangre en ayunas (`fbs`), resultados electrocardiográficos en reposo (`restecg`), frecuencia cardíaca máxima alcanzada (`thalach`), angina inducida por ejercicio (`exang`), oldpeak (`oldpeak`, depresión del ST inducida por el ejercicio en relación con el reposo), la pendiente del segmento ST del pico del ejercicio (`slope`), número de vasos principales (`ca`) coloreados por fluoroscopia, defecto de talio (`thal`) y el atributo objetivo (`target`) que puede indicar la presencia o ausencia de enfermedad cardíaca.\n",
    "\n",
    "2. **Método `__gt__(self, other)`**:\n",
    "   - Define el comportamiento del operador mayor que (`>`) para comparar dos objetos `Patient` basándose en su atributo `target`. Si el `target` del objeto actual (`self`) es mayor que el de otro objeto `Patient` (`other`), retorna `True`. De lo contrario, retorna `False`.\n",
    "   \n",
    "El propósito de esta clase es organizar y proporcionar una forma estructurada de acceder a la información del paciente y permitir comparaciones basadas en el estado de la enfermedad cardíaca."
   ]
  },
  {
   "cell_type": "code",
   "execution_count": 38,
   "metadata": {},
   "outputs": [],
   "source": [
    "# Class for each patient\n",
    "class Patient:\n",
    "    def __init__(self, df):\n",
    "        self.age = df.iloc[0]\n",
    "        self.sex = df.iloc[1]\n",
    "        self.cp = df.iloc[2]\n",
    "        self.trestbps = df.iloc[3]\n",
    "        self.chol = df.iloc[4]\n",
    "        self.fbs = df.iloc[5]\n",
    "        self.restecg = df.iloc[6]\n",
    "        self.thalach = df.iloc[7]\n",
    "        self.exang = df.iloc[8]\n",
    "        self.oldpeak = df.iloc[9] \n",
    "        self.slope = df.iloc[10] \n",
    "        self.ca = df.iloc[11] \n",
    "        self.thal = df.iloc[12] \n",
    "        self.target = df.iloc[13]\n",
    "    \n",
    "    def __gt__(self, other):\n",
    "        if (self.target > other.target):\n",
    "            return True\n",
    "        else:\n",
    "            return False"
   ]
  },
  {
   "cell_type": "markdown",
   "metadata": {},
   "source": [
    "El código realiza dos operaciones principales:\n",
    "\n",
    "1. **Genera una lista de objetos `Patient`**:\n",
    "   - Utiliza una comprensión de lista para iterar a través de cada fila del DataFrame `df`.\n",
    "   - Para cada fila, crea una instancia de la clase `Patient`, pasando la fila correspondiente (`df.iloc[i]`) al constructor de `Patient`.\n",
    "   - Cada objeto `Patient` creado representa un paciente con sus respectivos datos clínicos y diagnósticos.\n",
    "   - Almacena cada objeto `Patient` en la lista `array_instances`.\n",
    "\n",
    "2. **Verifica los atributos del primer objeto `Patient`**:\n",
    "   - Utiliza la función `vars()` para obtener un diccionario de los atributos del primer objeto `Patient` en la lista (`array_instances[0]`).\n",
    "   - Esto proporciona una forma de confirmar que los datos se han cargado correctamente en el objeto `Patient` y que la lista contiene la información deseada.\n",
    "   \n",
    "El resultado de `vars(array_instances[0])` mostrará los atributos y sus valores para el primer paciente en la lista, proporcionando una forma rápida de inspeccionar los datos cargados."
   ]
  },
  {
   "cell_type": "code",
   "execution_count": 40,
   "metadata": {},
   "outputs": [
    {
     "data": {
      "text/plain": [
       "{'age': 52.0,\n",
       " 'sex': 1.0,\n",
       " 'cp': 0.0,\n",
       " 'trestbps': 125.0,\n",
       " 'chol': 212.0,\n",
       " 'fbs': 0.0,\n",
       " 'restecg': 1.0,\n",
       " 'thalach': 168.0,\n",
       " 'exang': 0.0,\n",
       " 'oldpeak': 1.0,\n",
       " 'slope': 2.0,\n",
       " 'ca': 2.0,\n",
       " 'thal': 3.0,\n",
       " 'target': 0.23}"
      ]
     },
     "execution_count": 40,
     "metadata": {},
     "output_type": "execute_result"
    }
   ],
   "source": [
    "# Generate an array of objets \n",
    "array_instances = [Patient(df.iloc[i]) for i in range(len(df))]\n",
    "\n",
    "# Confirm that the array contains the required data\n",
    "vars(array_instances[0])"
   ]
  },
  {
   "cell_type": "markdown",
   "metadata": {},
   "source": [
    "Este código compara los valores del atributo `target` de los dos primeros objetos `Patient` en la lista `array_instances`. Hace lo siguiente:\n",
    "\n",
    "1. Accede al atributo `target` del primer objeto `Patient` (`array_instances[0].target`) y del segundo objeto `Patient` (`array_instances[1].target`).\n",
    "2. Convierte estos valores a cadenas de texto (usando `str()`).\n",
    "3. Imprime ambos valores, uno en cada línea, separados por un salto de línea (`\\n`).\n",
    "\n",
    "Esto mostrará los valores de `target` de los dos primeros pacientes, lo cual puede indicar, según cómo esté definido `target`, la presencia o ausencia de enfermedad cardíaca en estos pacientes."
   ]
  },
  {
   "cell_type": "code",
   "execution_count": 46,
   "metadata": {},
   "outputs": [
    {
     "name": "stdout",
     "output_type": "stream",
     "text": [
      "0.23\n",
      "0.37\n"
     ]
    }
   ],
   "source": [
    "# Take two values and compare\n",
    "print(str(array_instances[0].target) + \"\\n\" + str(array_instances[1].target))"
   ]
  },
  {
   "cell_type": "markdown",
   "metadata": {},
   "source": [
    "El código compara los dos primeros objetos `Patient` en la lista `array_instances` usando el operador mayor que (`>`), el cual ha sido definido en la clase `Patient` por el método `__gt__`.\n",
    "\n",
    "El método `__gt__` compara los objetos `Patient` basándose en su atributo `target`. Si el `target` del primer objeto `Patient` (`array_instances[0]`) es mayor que el del segundo objeto `Patient` (`array_instances[1]`), el resultado de `array_instances[0] > array_instances[1]` será `True`. De lo contrario, será `False`."
   ]
  },
  {
   "cell_type": "code",
   "execution_count": 41,
   "metadata": {},
   "outputs": [
    {
     "data": {
      "text/plain": [
       "False"
      ]
     },
     "execution_count": 41,
     "metadata": {},
     "output_type": "execute_result"
    }
   ],
   "source": [
    "# Confirm that the greater operator works\n",
    "array_instances[0] > array_instances[1]"
   ]
  }
 ],
 "metadata": {
  "kernelspec": {
   "display_name": "Python 3",
   "language": "python",
   "name": "python3"
  },
  "language_info": {
   "codemirror_mode": {
    "name": "ipython",
    "version": 3
   },
   "file_extension": ".py",
   "mimetype": "text/x-python",
   "name": "python",
   "nbconvert_exporter": "python",
   "pygments_lexer": "ipython3",
   "version": "3.10.12"
  }
 },
 "nbformat": 4,
 "nbformat_minor": 2
}
