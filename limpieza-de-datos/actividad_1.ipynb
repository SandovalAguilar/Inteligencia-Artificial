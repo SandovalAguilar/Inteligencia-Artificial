{
 "cells": [
  {
   "cell_type": "markdown",
   "metadata": {},
   "source": [
    "# 1. Limpieza de Datos <img src=\"fcfm.png\" style=\"width: 80px;\" style=\"float: right;\"  align=\"right\"  margin-right= \"50px\"/>\n",
    "\n",
    "032 E2024 Inteligencia Artificial \n",
    "\n",
    "Dr. Luis Ángel Gutiérrez Rodríguez\n",
    "\n",
    "Ismael Sandoval Aguilar \n",
    "\n",
    "3 de Febrero de 2024"
   ]
  },
  {
   "cell_type": "markdown",
   "metadata": {},
   "source": [
    "El código importa herramientas para el análisis y visualización de datos (pandas y matplotlib), cálculos numéricos (numpy) y selección aleatoria (random.choices)."
   ]
  },
  {
   "cell_type": "code",
   "execution_count": 109,
   "metadata": {},
   "outputs": [],
   "source": [
    "import pandas as pd\n",
    "import matplotlib.pyplot as plt\n",
    "import numpy as np\n",
    "\n",
    "from random import choices"
   ]
  },
  {
   "cell_type": "markdown",
   "metadata": {},
   "source": [
    "\n",
    "El código utiliza pandas (importado como pd) para leer un archivo CSV llamado 'Actividad1-StudentsPerformance.csv' y almacenar sus datos en un DataFrame llamado df."
   ]
  },
  {
   "cell_type": "code",
   "execution_count": 110,
   "metadata": {},
   "outputs": [],
   "source": [
    "df = pd.read_csv('Actividad1-StudentsPerformance.csv')"
   ]
  },
  {
   "cell_type": "markdown",
   "metadata": {},
   "source": [
    "El código utiliza el método `head()` de pandas para mostrar las primeras 5 filas del DataFrame `df`."
   ]
  },
  {
   "cell_type": "code",
   "execution_count": 111,
   "metadata": {},
   "outputs": [
    {
     "data": {
      "text/html": [
       "<div>\n",
       "<style scoped>\n",
       "    .dataframe tbody tr th:only-of-type {\n",
       "        vertical-align: middle;\n",
       "    }\n",
       "\n",
       "    .dataframe tbody tr th {\n",
       "        vertical-align: top;\n",
       "    }\n",
       "\n",
       "    .dataframe thead th {\n",
       "        text-align: right;\n",
       "    }\n",
       "</style>\n",
       "<table border=\"1\" class=\"dataframe\">\n",
       "  <thead>\n",
       "    <tr style=\"text-align: right;\">\n",
       "      <th></th>\n",
       "      <th>gender</th>\n",
       "      <th>race/ethnicity</th>\n",
       "      <th>parental level of education</th>\n",
       "      <th>lunch</th>\n",
       "      <th>test preparation course</th>\n",
       "      <th>math score</th>\n",
       "      <th>reading score</th>\n",
       "      <th>writing score</th>\n",
       "    </tr>\n",
       "  </thead>\n",
       "  <tbody>\n",
       "    <tr>\n",
       "      <th>0</th>\n",
       "      <td>female</td>\n",
       "      <td>group B</td>\n",
       "      <td>bachelor's degree</td>\n",
       "      <td>standard</td>\n",
       "      <td>none</td>\n",
       "      <td>72</td>\n",
       "      <td>72</td>\n",
       "      <td>74</td>\n",
       "    </tr>\n",
       "    <tr>\n",
       "      <th>1</th>\n",
       "      <td>female</td>\n",
       "      <td>group C</td>\n",
       "      <td>some college</td>\n",
       "      <td>standard</td>\n",
       "      <td>completed</td>\n",
       "      <td>69</td>\n",
       "      <td>90</td>\n",
       "      <td>88</td>\n",
       "    </tr>\n",
       "    <tr>\n",
       "      <th>2</th>\n",
       "      <td>female</td>\n",
       "      <td>group B</td>\n",
       "      <td>master's degree</td>\n",
       "      <td>standard</td>\n",
       "      <td>none</td>\n",
       "      <td>90</td>\n",
       "      <td>95</td>\n",
       "      <td>93</td>\n",
       "    </tr>\n",
       "    <tr>\n",
       "      <th>3</th>\n",
       "      <td>male</td>\n",
       "      <td>group A</td>\n",
       "      <td>associate's degree</td>\n",
       "      <td>free/reduced</td>\n",
       "      <td>none</td>\n",
       "      <td>47</td>\n",
       "      <td>57</td>\n",
       "      <td>44</td>\n",
       "    </tr>\n",
       "    <tr>\n",
       "      <th>4</th>\n",
       "      <td>male</td>\n",
       "      <td>group C</td>\n",
       "      <td>some college</td>\n",
       "      <td>standard</td>\n",
       "      <td>none</td>\n",
       "      <td>76</td>\n",
       "      <td>78</td>\n",
       "      <td>75</td>\n",
       "    </tr>\n",
       "  </tbody>\n",
       "</table>\n",
       "</div>"
      ],
      "text/plain": [
       "   gender race/ethnicity parental level of education         lunch  \\\n",
       "0  female        group B           bachelor's degree      standard   \n",
       "1  female        group C                some college      standard   \n",
       "2  female        group B             master's degree      standard   \n",
       "3    male        group A          associate's degree  free/reduced   \n",
       "4    male        group C                some college      standard   \n",
       "\n",
       "  test preparation course  math score  reading score  writing score  \n",
       "0                    none          72             72             74  \n",
       "1               completed          69             90             88  \n",
       "2                    none          90             95             93  \n",
       "3                    none          47             57             44  \n",
       "4                    none          76             78             75  "
      ]
     },
     "execution_count": 111,
     "metadata": {},
     "output_type": "execute_result"
    }
   ],
   "source": [
    "df.head()"
   ]
  },
  {
   "cell_type": "markdown",
   "metadata": {},
   "source": [
    "El código define una función `simple_mean` y una clase `Student` para manejar datos de estudiantes:\n",
    "\n",
    "1. **Función `simple_mean(a, b)`**:\n",
    "   - Calcula y retorna el promedio simple de dos números `a` y `b`.\n",
    "\n",
    "2. **Clase `Student`**:\n",
    "   - Inicializa un objeto `Student` con atributos basados en valores de un DataFrame `df` (género, etnia, nivel educativo, tipo de almuerzo, si toman un curso de preparación para el examen, puntajes en matemáticas, lectura, escritura y el puntaje promedio).\n",
    "   - Implementa métodos mágicos `__gt__` y `__lt__` para comparar objetos `Student` según su `average_score`.\n",
    "     - `__gt__`: Retorna `True` si el `average_score` del objeto es mayor que el de otro objeto `Student`.\n",
    "     - `__lt__`: Retorna `True` si el `average_score` del objeto es menor que el de otro objeto `Student`.\n",
    "   - Implementa el método mágico `__add__` para 'sumar' dos objetos `Student`, creando una lista `result` que contiene:\n",
    "     - Una elección aleatoria entre los atributos correspondientes de ambos estudiantes (género, etnia, nivel educativo, tipo de almuerzo, curso de preparación para el examen).\n",
    "     - El promedio simple de los puntajes (matemáticas, lectura, escritura) y del puntaje promedio total de ambos estudiantes, usando la función `simple_mean`.\n",
    "\n",
    "El propósito de esta clase parece ser manejar y comparar información de estudiantes, permitiendo operaciones como la comparación de puntajes promedios y la combinación de información de dos estudiantes."
   ]
  },
  {
   "cell_type": "code",
   "execution_count": 112,
   "metadata": {},
   "outputs": [],
   "source": [
    "# Too lazy to repeat the same operation\n",
    "def simple_mean(a, b):\n",
    "        return (a + b) / 2\n",
    "\n",
    "# Class for each student\n",
    "class Student:\n",
    "    def __init__(self, df):\n",
    "        self.gender = df.iloc[0]\n",
    "        self.ethnicity = df.iloc[1]\n",
    "        self.level_education = df.iloc[2]\n",
    "        self.lunch = df.iloc[3]\n",
    "        self.test_course = df.iloc[4]\n",
    "        self.math_score = df.iloc[5]\n",
    "        self.reading_score = df.iloc[6]\n",
    "        self.writing_score = df.iloc[7]\n",
    "        self.average_score = (df.iloc[5] +  df.iloc[6] + df.iloc[7]) / 3\n",
    "\n",
    "    def __gt__(self, other):\n",
    "        if (self.average_score > other.average_score):\n",
    "            return True\n",
    "        else:\n",
    "            return False\n",
    "        \n",
    "    def __lt__(self, other):\n",
    "        if (self.average_score < other.average_score):\n",
    "            return True\n",
    "        else:\n",
    "            return False\n",
    "\n",
    "    def __add__(self, other):\n",
    "\n",
    "        result = [\n",
    "            choices([self.gender, other.gender]),\n",
    "            choices([self.ethnicity, other.ethnicity]),\n",
    "            choices([self.level_education, other.level_education]),\n",
    "            choices([self.lunch, other.lunch]),\n",
    "            choices([self.test_course, other.test_course]),\n",
    "            simple_mean(self.math_score, other.math_score),\n",
    "            simple_mean(self.reading_score, other.reading_score),\n",
    "            simple_mean(self.writing_score, other.writing_score),\n",
    "            simple_mean(self.average_score, other.average_score),\n",
    "        ]\n",
    "\n",
    "        return result"
   ]
  },
  {
   "cell_type": "markdown",
   "metadata": {},
   "source": [
    "El código crea una lista `array_instances`, donde cada elemento es una instancia de la clase `Student`, inicializada con los datos de cada fila del DataFrame `df`. Luego, muestra los atributos del primer objeto `Student` en la lista.\n",
    "\n",
    "1. **Generar la lista `array_instances`**:\n",
    "   - Utiliza una comprensión de lista para iterar sobre cada fila (`i`) del DataFrame `df`.\n",
    "   - Para cada fila, crea una instancia de `Student` pasando la fila correspondiente (`df.iloc[i]`) al constructor de `Student`.\n",
    "   - Almacena cada instancia de `Student` en la lista `array_instances`.\n",
    "\n",
    "2. **Mostrar atributos del primer objeto `Student`**:\n",
    "   - Usa la función `vars()` para obtener un diccionario de los atributos del primer objeto `Student` en la lista (`array_instances[0]`).\n",
    "   - Esto incluiría atributos como `gender`, `ethnicity`, `level_education`, `lunch`, `test_course`, `math_score`, `reading_score`, `writing_score`, y `average_score`."
   ]
  },
  {
   "cell_type": "code",
   "execution_count": 113,
   "metadata": {},
   "outputs": [
    {
     "data": {
      "text/plain": [
       "{'gender': 'female',\n",
       " 'ethnicity': 'group B',\n",
       " 'level_education': \"bachelor's degree\",\n",
       " 'lunch': 'standard',\n",
       " 'test_course': 'none',\n",
       " 'math_score': 72,\n",
       " 'reading_score': 72,\n",
       " 'writing_score': 74,\n",
       " 'average_score': 72.66666666666667}"
      ]
     },
     "execution_count": 113,
     "metadata": {},
     "output_type": "execute_result"
    }
   ],
   "source": [
    "# Generate an array of objets \n",
    "array_instances = [Student(df.iloc[i]) for i in range(len(df))]\n",
    "\n",
    "# Confirm that the array contains the required data\n",
    "vars(array_instances[0])"
   ]
  },
  {
   "cell_type": "markdown",
   "metadata": {},
   "source": [
    "El código compara dos objetos `Student`, específicamente el primero (`array_instances[0]`) y el segundo (`array_instances[1]`), utilizando el operador mayor que (`>`), el cual ha sido definido en la clase `Student` por el método `__gt__`.\n",
    "\n",
    "El método `__gt__` compara los objetos `Student` basándose en su `average_score`. Si el `average_score` del primer objeto `Student` (`array_instances[0]`) es mayor que el del segundo objeto `Student` (`array_instances[1]`), el resultado de `array_instances[0] > array_instances[1]` será `True`. De lo contrario, será `False`."
   ]
  },
  {
   "cell_type": "code",
   "execution_count": 114,
   "metadata": {},
   "outputs": [
    {
     "data": {
      "text/plain": [
       "False"
      ]
     },
     "execution_count": 114,
     "metadata": {},
     "output_type": "execute_result"
    }
   ],
   "source": [
    "# Confirm that the greater operator works\n",
    "array_instances[0] > array_instances[1]"
   ]
  },
  {
   "cell_type": "markdown",
   "metadata": {},
   "source": [
    "El código está usando el operador menor que (`<`) para comparar dos objetos `Student`, específicamente el primero (`array_instances[0]`) y el segundo (`array_instances[1]`), basándose en su atributo `average_score`. La lógica para este operador está definida en el método `__lt__` de la clase `Student`.\n",
    "\n",
    "El método `__lt__` evalúa si el `average_score` del primer objeto `Student` (`array_instances[0]`) es menor que el del segundo objeto `Student` (`array_instances[1]`). Si es así, `array_instances[0] < array_instances[1]` retornará `True`; si no, retornará `False`."
   ]
  },
  {
   "cell_type": "code",
   "execution_count": 115,
   "metadata": {},
   "outputs": [
    {
     "data": {
      "text/plain": [
       "True"
      ]
     },
     "execution_count": 115,
     "metadata": {},
     "output_type": "execute_result"
    }
   ],
   "source": [
    "# Confirm that the lesser operator works\n",
    "array_instances[0] < array_instances[1]"
   ]
  },
  {
   "cell_type": "markdown",
   "metadata": {},
   "source": [
    "El código está intentando 'sumar' el primer objeto `Student` (`array_instances[0]`) consigo mismo utilizando el operador de adición (`+`), que ha sido personalizado en la clase `Student` a través del método `__add__`.\n",
    "\n",
    "El método `__add__` combina atributos de dos objetos `Student`. Para atributos categóricos (como `gender`, `ethnicity`, `level_education`, `lunch`, `test_course`), selecciona aleatoriamente uno de los dos valores correspondientes. Para atributos numéricos (como `math_score`, `reading_score`, `writing_score`, y `average_score`), calcula el promedio de los dos valores correspondientes usando la función `simple_mean`.\n",
    "\n",
    "En este caso, dado que el mismo objeto `Student` se está 'sumando' consigo mismo, la selección aleatoria de atributos categóricos elegirá entre dos valores idénticos (por lo que el resultado será el mismo valor que el original), y el promedio de los puntajes numéricos será el mismo puntaje original.\n",
    "\n",
    "El resultado de `array_instances[0] + array_instances[0]` será una lista que contiene estos valores combinados o promediados."
   ]
  },
  {
   "cell_type": "code",
   "execution_count": 116,
   "metadata": {},
   "outputs": [
    {
     "data": {
      "text/plain": [
       "[['female'],\n",
       " ['group B'],\n",
       " [\"bachelor's degree\"],\n",
       " ['standard'],\n",
       " ['none'],\n",
       " 72.0,\n",
       " 72.0,\n",
       " 74.0,\n",
       " 72.66666666666667]"
      ]
     },
     "execution_count": 116,
     "metadata": {},
     "output_type": "execute_result"
    }
   ],
   "source": [
    "# Confirm that the addition operator works\n",
    "array_instances[0] + array_instances[0]"
   ]
  }
 ],
 "metadata": {
  "kernelspec": {
   "display_name": "Python 3",
   "language": "python",
   "name": "python3"
  },
  "language_info": {
   "codemirror_mode": {
    "name": "ipython",
    "version": 3
   },
   "file_extension": ".py",
   "mimetype": "text/x-python",
   "name": "python",
   "nbconvert_exporter": "python",
   "pygments_lexer": "ipython3",
   "version": "3.11.6"
  }
 },
 "nbformat": 4,
 "nbformat_minor": 2
}
